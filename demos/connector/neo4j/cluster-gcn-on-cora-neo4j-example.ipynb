{
 "cells": [
  {
   "cell_type": "markdown",
   "metadata": {
    "nbsphinx": "hidden",
    "tags": [
     "CloudRunner"
    ]
   },
   "source": [
    "<table><tr><td>Run the latest release of this notebook:</td><td><a href=\"https://mybinder.org/v2/gh/stellargraph/stellargraph/master?urlpath=lab/tree/demos/connector/neo4j/cluster-gcn-on-cora-neo4j-example.ipynb\" alt=\"Open In Binder\" target=\"_parent\"><img src=\"https://mybinder.org/badge_logo.svg\"/></a></td><td><a href=\"https://colab.research.google.com/github/stellargraph/stellargraph/blob/master/demos/connector/neo4j/cluster-gcn-on-cora-neo4j-example.ipynb\" alt=\"Open In Colab\" target=\"_parent\"><img src=\"https://colab.research.google.com/assets/colab-badge.svg\"/></a></td></tr></table>"
   ]
  },
  {
   "cell_type": "code",
   "execution_count": 1,
   "metadata": {
    "nbsphinx": "hidden",
    "tags": [
     "CloudRunner"
    ]
   },
   "outputs": [],
   "source": [
    "# install StellarGraph if running on Google Colab\n",
    "import sys\n",
    "if 'google.colab' in sys.modules:\n",
    "  %pip install -q stellargraph[demos]==1.1.0b"
   ]
  },
  {
   "cell_type": "code",
   "execution_count": 2,
   "metadata": {
    "nbsphinx": "hidden",
    "tags": [
     "VersionCheck"
    ]
   },
   "outputs": [],
   "source": [
    "# verify that we're using the correct version of StellarGraph for this notebook\n",
    "import stellargraph as sg\n",
    "\n",
    "try:\n",
    "    sg.utils.validate_notebook_version(\"1.1.0b\")\n",
    "except AttributeError:\n",
    "    raise ValueError(\n",
    "        f\"This notebook requires StellarGraph version 1.1.0b, but a different version {sg.__version__} is installed.  Please see <https://github.com/stellargraph/stellargraph/issues/1172>.\"\n",
    "    ) from None"
   ]
  },
  {
   "cell_type": "code",
   "execution_count": 3,
   "metadata": {},
   "outputs": [],
   "source": [
    "import stellargraph as sg\n",
    "from stellargraph.connector.neo4j import Neo4jClusterNodeGenerator, Neo4jStellarGraph\n",
    "from stellargraph.layer import ClusterGCN\n",
    "import tensorflow as tf\n",
    "import py2neo\n",
    "import os\n",
    "from sklearn import preprocessing, feature_extraction, model_selection\n",
    "\n",
    "import numpy as np\n",
    "import scipy.sparse as sps\n",
    "import pandas as pd"
   ]
  },
  {
   "cell_type": "code",
   "execution_count": 4,
   "metadata": {},
   "outputs": [],
   "source": [
    "default_host = os.environ.get(\"STELLARGRAPH_NEO4J_HOST\")\n",
    "\n",
    "# Create the Neo4j Graph database object;\n",
    "# the arguments can be edited to specify location and authentication\n",
    "graph = py2neo.Graph(host=default_host, port=None, user=None, password=\"pass\")\n",
    "neo4j_sg = Neo4jStellarGraph(graph)"
   ]
  },
  {
   "cell_type": "code",
   "execution_count": 5,
   "metadata": {},
   "outputs": [],
   "source": [
    "# read the node labels from a seperate file\n",
    "# note this function also returns a StellarGraph\n",
    "# which we won't be using for this demo - we only need Neo4jStellarGraph!\n",
    "_, labels = sg.datasets.Cora().load()"
   ]
  },
  {
   "cell_type": "code",
   "execution_count": 6,
   "metadata": {},
   "outputs": [],
   "source": [
    "# split the node labels into train/test/val\n",
    "\n",
    "train_labels, test_labels = model_selection.train_test_split(\n",
    "    labels, train_size=140, test_size=None, stratify=labels\n",
    ")\n",
    "val_labels, test_labels = model_selection.train_test_split(\n",
    "    test_labels, train_size=500, test_size=None, stratify=test_labels\n",
    ")\n",
    "\n",
    "target_encoding = preprocessing.LabelBinarizer()\n",
    "\n",
    "train_targets = target_encoding.fit_transform(train_labels)\n",
    "val_targets = target_encoding.transform(val_labels)\n",
    "test_targets = target_encoding.transform(test_labels)"
   ]
  },
  {
   "cell_type": "code",
   "execution_count": 7,
   "metadata": {},
   "outputs": [
    {
     "name": "stdout",
     "output_type": "stream",
     "text": [
      "Number of clusters 5\n",
      "0 cluster has size 541\n",
      "1 cluster has size 541\n",
      "2 cluster has size 541\n",
      "3 cluster has size 541\n",
      "4 cluster has size 544\n"
     ]
    }
   ],
   "source": [
    "# create the Neo4jClusterNodeGenerator\n",
    "# and the keras sequence objects\n",
    "\n",
    "generator = Neo4jClusterNodeGenerator(neo4j_sg, clusters=5)\n",
    "\n",
    "train_gen = generator.flow(train_labels.index, targets=train_targets)\n",
    "val_gen = generator.flow(val_labels.index, targets=val_targets)\n",
    "test_gen = generator.flow(test_labels.index, targets=test_targets)"
   ]
  },
  {
   "cell_type": "code",
   "execution_count": 8,
   "metadata": {},
   "outputs": [],
   "source": [
    "# create the model\n",
    "\n",
    "cluster_gcn = ClusterGCN(\n",
    "    layer_sizes=[32, 32], generator=generator, activations=[\"relu\", \"relu\"], dropout=0.5,\n",
    ")\n",
    "\n",
    "x_in, x_out = cluster_gcn.in_out_tensors()\n",
    "predictions = tf.keras.layers.Dense(units=val_targets.shape[1], activation=\"softmax\")(\n",
    "    x_out\n",
    ")\n",
    "model = tf.keras.Model(x_in, predictions)\n",
    "model.compile(\n",
    "    optimizer=tf.keras.optimizers.Adam(lr=0.01),\n",
    "    loss=tf.keras.losses.categorical_crossentropy,\n",
    "    metrics=[\"acc\"],\n",
    ")"
   ]
  },
  {
   "cell_type": "code",
   "execution_count": 9,
   "metadata": {},
   "outputs": [
    {
     "name": "stdout",
     "output_type": "stream",
     "text": [
      "  ['...']\n",
      "  ['...']\n",
      "Train for 5 steps, validate for 5 steps\n",
      "Epoch 1/10\n",
      "5/5 [==============================] - 10s 2s/step - loss: 1.9248 - acc: 0.2571 - val_loss: 1.8326 - val_acc: 0.3000\n",
      "Epoch 2/10\n",
      "5/5 [==============================] - 10s 2s/step - loss: 1.6974 - acc: 0.3214 - val_loss: 1.7369 - val_acc: 0.3060\n",
      "Epoch 3/10\n",
      "5/5 [==============================] - 10s 2s/step - loss: 1.5327 - acc: 0.4143 - val_loss: 1.5998 - val_acc: 0.4140\n",
      "Epoch 4/10\n",
      "5/5 [==============================] - 10s 2s/step - loss: 1.3429 - acc: 0.5214 - val_loss: 1.4707 - val_acc: 0.4980\n",
      "Epoch 5/10\n",
      "5/5 [==============================] - 10s 2s/step - loss: 1.0642 - acc: 0.6643 - val_loss: 1.3391 - val_acc: 0.5340\n",
      "Epoch 6/10\n",
      "5/5 [==============================] - 10s 2s/step - loss: 0.7864 - acc: 0.7643 - val_loss: 1.2693 - val_acc: 0.5800\n",
      "Epoch 7/10\n",
      "5/5 [==============================] - 11s 2s/step - loss: 0.5935 - acc: 0.7929 - val_loss: 1.2978 - val_acc: 0.5720\n",
      "Epoch 8/10\n",
      "5/5 [==============================] - 10s 2s/step - loss: 0.4845 - acc: 0.8286 - val_loss: 1.2993 - val_acc: 0.6100\n",
      "Epoch 9/10\n",
      "5/5 [==============================] - 10s 2s/step - loss: 0.4148 - acc: 0.8571 - val_loss: 1.2724 - val_acc: 0.6320\n",
      "Epoch 10/10\n",
      "5/5 [==============================] - 10s 2s/step - loss: 0.3315 - acc: 0.8786 - val_loss: 1.3297 - val_acc: 0.6180\n"
     ]
    },
    {
     "data": {
      "text/plain": [
       "<tensorflow.python.keras.callbacks.History at 0x1a42903ba8>"
      ]
     },
     "execution_count": 8,
     "metadata": {},
     "output_type": "execute_result"
    }
   ],
   "source": [
    "# train the model!\n",
    "model.fit(train_gen, validation_data=val_gen, epochs=10)"
   ]
  },
  {
   "cell_type": "code",
   "execution_count": 10,
   "metadata": {},
   "outputs": [
    {
     "name": "stdout",
     "output_type": "stream",
     "text": [
      "  ['...']\n",
      "5/5 [==============================] - 5s 980ms/step - loss: 1.2825 - acc: 0.6272\n"
     ]
    },
    {
     "data": {
      "text/plain": [
       "[1.2825486660003662, 0.627176]"
      ]
     },
     "execution_count": 9,
     "metadata": {},
     "output_type": "execute_result"
    }
   ],
   "source": [
    "# evaluate the model\n",
    "model.evaluate(test_gen)"
   ]
  },
  {
   "cell_type": "markdown",
   "metadata": {
    "nbsphinx": "hidden",
    "tags": [
     "CloudRunner"
    ]
   },
   "source": [
    "<table><tr><td>Run the latest release of this notebook:</td><td><a href=\"https://mybinder.org/v2/gh/stellargraph/stellargraph/master?urlpath=lab/tree/demos/connector/neo4j/cluster-gcn-on-cora-neo4j-example.ipynb\" alt=\"Open In Binder\" target=\"_parent\"><img src=\"https://mybinder.org/badge_logo.svg\"/></a></td><td><a href=\"https://colab.research.google.com/github/stellargraph/stellargraph/blob/master/demos/connector/neo4j/cluster-gcn-on-cora-neo4j-example.ipynb\" alt=\"Open In Colab\" target=\"_parent\"><img src=\"https://colab.research.google.com/assets/colab-badge.svg\"/></a></td></tr></table>"
   ]
  }
 ],
 "metadata": {
  "kernelspec": {
   "display_name": "Python 3",
   "language": "python",
   "name": "python3"
  },
  "language_info": {
   "codemirror_mode": {
    "name": "ipython",
    "version": 3
   },
   "file_extension": ".py",
   "mimetype": "text/x-python",
   "name": "python",
   "nbconvert_exporter": "python",
   "pygments_lexer": "ipython3",
   "version": "3.6.9"
  }
 },
 "nbformat": 4,
 "nbformat_minor": 2
}
